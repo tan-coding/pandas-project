{
  "cells": [
    {
      "cell_type": "markdown",
      "metadata": {
        "id": "view-in-github",
        "colab_type": "text"
      },
      "source": [
        "<a href=\"https://colab.research.google.com/github/tan-coding/pandas-project/blob/master/Copy_of_Lin_Reg.ipynb\" target=\"_parent\"><img src=\"https://colab.research.google.com/assets/colab-badge.svg\" alt=\"Open In Colab\"/></a>"
      ]
    },
    {
      "cell_type": "markdown",
      "source": [
        "# Linear Regression"
      ],
      "metadata": {
        "id": "LvkxJLK872xG"
      }
    },
    {
      "cell_type": "markdown",
      "source": [],
      "metadata": {
        "id": "uJEzeBaYrp3a"
      }
    },
    {
      "cell_type": "code",
      "execution_count": 1,
      "metadata": {
        "id": "ylSYM7srAaTK"
      },
      "outputs": [],
      "source": [
        "# Import the required libraries\n",
        "import pandas as pd\n",
        "import numpy as np\n",
        "import matplotlib.pyplot as plt\n",
        "from sklearn.preprocessing import OneHotEncoder, MinMaxScaler\n",
        "from sklearn.linear_model import LinearRegression\n"
      ]
    },
    {
      "cell_type": "markdown",
      "metadata": {
        "id": "1d8TzpYrAaTK"
      },
      "source": [
        "## Data Preprocessing"
      ]
    },
    {
      "cell_type": "markdown",
      "metadata": {
        "id": "Ko0DUQMIAaTL"
      },
      "source": [
        "### **Exploring the dataset**"
      ]
    },
    {
      "cell_type": "markdown",
      "metadata": {
        "id": "PiIvXaDLAaTL"
      },
      "source": [
        "Let's start with loading the training data from the csv into a pandas dataframe"
      ]
    },
    {
      "cell_type": "markdown",
      "source": [
        "\n",
        "\n",
        "Load the datasets from GitHub. Train dataset has already been loaded for you in df below. To get test dataset use the commented code."
      ],
      "metadata": {
        "id": "CeVVY-uHrsqR"
      }
    },
    {
      "cell_type": "code",
      "execution_count": 2,
      "metadata": {
        "id": "dj_ZCCgTAaTL",
        "collapsed": true
      },
      "outputs": [],
      "source": [
        "df = pd.read_csv('https://raw.githubusercontent.com/cronan03/DevSoc_AI-ML/main/train_processed_splitted.csv')"
      ]
    },
    {
      "cell_type": "markdown",
      "metadata": {
        "id": "l5-4Ujl1AaTL"
      },
      "source": [
        "Let's see what the first 5 rows of this dataset looks like"
      ]
    },
    {
      "cell_type": "code",
      "execution_count": 3,
      "metadata": {
        "id": "-ieOW_eQAaTL",
        "colab": {
          "base_uri": "https://localhost:8080/",
          "height": 206
        },
        "outputId": "96be2bce-2af3-4b33-c287-025a0da00e58"
      },
      "outputs": [
        {
          "output_type": "execute_result",
          "data": {
            "text/plain": [
              "   LotArea  TotalBsmtSF  GrLivArea  GarageArea  PoolArea  OverallCond  \\\n",
              "0    11553         1051       1159         336         0            5   \n",
              "1     8400         1052       1052         288         0            5   \n",
              "2     8960         1008       1028         360         0            6   \n",
              "3    11100            0        930         308         0            7   \n",
              "4    15593         1304       2287         667         0            4   \n",
              "\n",
              "  Utilities  SalePrice  \n",
              "0    AllPub     158000  \n",
              "1    AllPub     138500  \n",
              "2    AllPub     115000  \n",
              "3    AllPub      84900  \n",
              "4    AllPub     225000  "
            ],
            "text/html": [
              "\n",
              "  <div id=\"df-29d36b83-b645-4db2-a12b-e7f480498968\" class=\"colab-df-container\">\n",
              "    <div>\n",
              "<style scoped>\n",
              "    .dataframe tbody tr th:only-of-type {\n",
              "        vertical-align: middle;\n",
              "    }\n",
              "\n",
              "    .dataframe tbody tr th {\n",
              "        vertical-align: top;\n",
              "    }\n",
              "\n",
              "    .dataframe thead th {\n",
              "        text-align: right;\n",
              "    }\n",
              "</style>\n",
              "<table border=\"1\" class=\"dataframe\">\n",
              "  <thead>\n",
              "    <tr style=\"text-align: right;\">\n",
              "      <th></th>\n",
              "      <th>LotArea</th>\n",
              "      <th>TotalBsmtSF</th>\n",
              "      <th>GrLivArea</th>\n",
              "      <th>GarageArea</th>\n",
              "      <th>PoolArea</th>\n",
              "      <th>OverallCond</th>\n",
              "      <th>Utilities</th>\n",
              "      <th>SalePrice</th>\n",
              "    </tr>\n",
              "  </thead>\n",
              "  <tbody>\n",
              "    <tr>\n",
              "      <th>0</th>\n",
              "      <td>11553</td>\n",
              "      <td>1051</td>\n",
              "      <td>1159</td>\n",
              "      <td>336</td>\n",
              "      <td>0</td>\n",
              "      <td>5</td>\n",
              "      <td>AllPub</td>\n",
              "      <td>158000</td>\n",
              "    </tr>\n",
              "    <tr>\n",
              "      <th>1</th>\n",
              "      <td>8400</td>\n",
              "      <td>1052</td>\n",
              "      <td>1052</td>\n",
              "      <td>288</td>\n",
              "      <td>0</td>\n",
              "      <td>5</td>\n",
              "      <td>AllPub</td>\n",
              "      <td>138500</td>\n",
              "    </tr>\n",
              "    <tr>\n",
              "      <th>2</th>\n",
              "      <td>8960</td>\n",
              "      <td>1008</td>\n",
              "      <td>1028</td>\n",
              "      <td>360</td>\n",
              "      <td>0</td>\n",
              "      <td>6</td>\n",
              "      <td>AllPub</td>\n",
              "      <td>115000</td>\n",
              "    </tr>\n",
              "    <tr>\n",
              "      <th>3</th>\n",
              "      <td>11100</td>\n",
              "      <td>0</td>\n",
              "      <td>930</td>\n",
              "      <td>308</td>\n",
              "      <td>0</td>\n",
              "      <td>7</td>\n",
              "      <td>AllPub</td>\n",
              "      <td>84900</td>\n",
              "    </tr>\n",
              "    <tr>\n",
              "      <th>4</th>\n",
              "      <td>15593</td>\n",
              "      <td>1304</td>\n",
              "      <td>2287</td>\n",
              "      <td>667</td>\n",
              "      <td>0</td>\n",
              "      <td>4</td>\n",
              "      <td>AllPub</td>\n",
              "      <td>225000</td>\n",
              "    </tr>\n",
              "  </tbody>\n",
              "</table>\n",
              "</div>\n",
              "    <div class=\"colab-df-buttons\">\n",
              "\n",
              "  <div class=\"colab-df-container\">\n",
              "    <button class=\"colab-df-convert\" onclick=\"convertToInteractive('df-29d36b83-b645-4db2-a12b-e7f480498968')\"\n",
              "            title=\"Convert this dataframe to an interactive table.\"\n",
              "            style=\"display:none;\">\n",
              "\n",
              "  <svg xmlns=\"http://www.w3.org/2000/svg\" height=\"24px\" viewBox=\"0 -960 960 960\">\n",
              "    <path d=\"M120-120v-720h720v720H120Zm60-500h600v-160H180v160Zm220 220h160v-160H400v160Zm0 220h160v-160H400v160ZM180-400h160v-160H180v160Zm440 0h160v-160H620v160ZM180-180h160v-160H180v160Zm440 0h160v-160H620v160Z\"/>\n",
              "  </svg>\n",
              "    </button>\n",
              "\n",
              "  <style>\n",
              "    .colab-df-container {\n",
              "      display:flex;\n",
              "      gap: 12px;\n",
              "    }\n",
              "\n",
              "    .colab-df-convert {\n",
              "      background-color: #E8F0FE;\n",
              "      border: none;\n",
              "      border-radius: 50%;\n",
              "      cursor: pointer;\n",
              "      display: none;\n",
              "      fill: #1967D2;\n",
              "      height: 32px;\n",
              "      padding: 0 0 0 0;\n",
              "      width: 32px;\n",
              "    }\n",
              "\n",
              "    .colab-df-convert:hover {\n",
              "      background-color: #E2EBFA;\n",
              "      box-shadow: 0px 1px 2px rgba(60, 64, 67, 0.3), 0px 1px 3px 1px rgba(60, 64, 67, 0.15);\n",
              "      fill: #174EA6;\n",
              "    }\n",
              "\n",
              "    .colab-df-buttons div {\n",
              "      margin-bottom: 4px;\n",
              "    }\n",
              "\n",
              "    [theme=dark] .colab-df-convert {\n",
              "      background-color: #3B4455;\n",
              "      fill: #D2E3FC;\n",
              "    }\n",
              "\n",
              "    [theme=dark] .colab-df-convert:hover {\n",
              "      background-color: #434B5C;\n",
              "      box-shadow: 0px 1px 3px 1px rgba(0, 0, 0, 0.15);\n",
              "      filter: drop-shadow(0px 1px 2px rgba(0, 0, 0, 0.3));\n",
              "      fill: #FFFFFF;\n",
              "    }\n",
              "  </style>\n",
              "\n",
              "    <script>\n",
              "      const buttonEl =\n",
              "        document.querySelector('#df-29d36b83-b645-4db2-a12b-e7f480498968 button.colab-df-convert');\n",
              "      buttonEl.style.display =\n",
              "        google.colab.kernel.accessAllowed ? 'block' : 'none';\n",
              "\n",
              "      async function convertToInteractive(key) {\n",
              "        const element = document.querySelector('#df-29d36b83-b645-4db2-a12b-e7f480498968');\n",
              "        const dataTable =\n",
              "          await google.colab.kernel.invokeFunction('convertToInteractive',\n",
              "                                                    [key], {});\n",
              "        if (!dataTable) return;\n",
              "\n",
              "        const docLinkHtml = 'Like what you see? Visit the ' +\n",
              "          '<a target=\"_blank\" href=https://colab.research.google.com/notebooks/data_table.ipynb>data table notebook</a>'\n",
              "          + ' to learn more about interactive tables.';\n",
              "        element.innerHTML = '';\n",
              "        dataTable['output_type'] = 'display_data';\n",
              "        await google.colab.output.renderOutput(dataTable, element);\n",
              "        const docLink = document.createElement('div');\n",
              "        docLink.innerHTML = docLinkHtml;\n",
              "        element.appendChild(docLink);\n",
              "      }\n",
              "    </script>\n",
              "  </div>\n",
              "\n",
              "\n",
              "    <div id=\"df-fdc36d14-5e4a-450d-9cdb-da82833b6d57\">\n",
              "      <button class=\"colab-df-quickchart\" onclick=\"quickchart('df-fdc36d14-5e4a-450d-9cdb-da82833b6d57')\"\n",
              "                title=\"Suggest charts\"\n",
              "                style=\"display:none;\">\n",
              "\n",
              "<svg xmlns=\"http://www.w3.org/2000/svg\" height=\"24px\"viewBox=\"0 0 24 24\"\n",
              "     width=\"24px\">\n",
              "    <g>\n",
              "        <path d=\"M19 3H5c-1.1 0-2 .9-2 2v14c0 1.1.9 2 2 2h14c1.1 0 2-.9 2-2V5c0-1.1-.9-2-2-2zM9 17H7v-7h2v7zm4 0h-2V7h2v10zm4 0h-2v-4h2v4z\"/>\n",
              "    </g>\n",
              "</svg>\n",
              "      </button>\n",
              "\n",
              "<style>\n",
              "  .colab-df-quickchart {\n",
              "      --bg-color: #E8F0FE;\n",
              "      --fill-color: #1967D2;\n",
              "      --hover-bg-color: #E2EBFA;\n",
              "      --hover-fill-color: #174EA6;\n",
              "      --disabled-fill-color: #AAA;\n",
              "      --disabled-bg-color: #DDD;\n",
              "  }\n",
              "\n",
              "  [theme=dark] .colab-df-quickchart {\n",
              "      --bg-color: #3B4455;\n",
              "      --fill-color: #D2E3FC;\n",
              "      --hover-bg-color: #434B5C;\n",
              "      --hover-fill-color: #FFFFFF;\n",
              "      --disabled-bg-color: #3B4455;\n",
              "      --disabled-fill-color: #666;\n",
              "  }\n",
              "\n",
              "  .colab-df-quickchart {\n",
              "    background-color: var(--bg-color);\n",
              "    border: none;\n",
              "    border-radius: 50%;\n",
              "    cursor: pointer;\n",
              "    display: none;\n",
              "    fill: var(--fill-color);\n",
              "    height: 32px;\n",
              "    padding: 0;\n",
              "    width: 32px;\n",
              "  }\n",
              "\n",
              "  .colab-df-quickchart:hover {\n",
              "    background-color: var(--hover-bg-color);\n",
              "    box-shadow: 0 1px 2px rgba(60, 64, 67, 0.3), 0 1px 3px 1px rgba(60, 64, 67, 0.15);\n",
              "    fill: var(--button-hover-fill-color);\n",
              "  }\n",
              "\n",
              "  .colab-df-quickchart-complete:disabled,\n",
              "  .colab-df-quickchart-complete:disabled:hover {\n",
              "    background-color: var(--disabled-bg-color);\n",
              "    fill: var(--disabled-fill-color);\n",
              "    box-shadow: none;\n",
              "  }\n",
              "\n",
              "  .colab-df-spinner {\n",
              "    border: 2px solid var(--fill-color);\n",
              "    border-color: transparent;\n",
              "    border-bottom-color: var(--fill-color);\n",
              "    animation:\n",
              "      spin 1s steps(1) infinite;\n",
              "  }\n",
              "\n",
              "  @keyframes spin {\n",
              "    0% {\n",
              "      border-color: transparent;\n",
              "      border-bottom-color: var(--fill-color);\n",
              "      border-left-color: var(--fill-color);\n",
              "    }\n",
              "    20% {\n",
              "      border-color: transparent;\n",
              "      border-left-color: var(--fill-color);\n",
              "      border-top-color: var(--fill-color);\n",
              "    }\n",
              "    30% {\n",
              "      border-color: transparent;\n",
              "      border-left-color: var(--fill-color);\n",
              "      border-top-color: var(--fill-color);\n",
              "      border-right-color: var(--fill-color);\n",
              "    }\n",
              "    40% {\n",
              "      border-color: transparent;\n",
              "      border-right-color: var(--fill-color);\n",
              "      border-top-color: var(--fill-color);\n",
              "    }\n",
              "    60% {\n",
              "      border-color: transparent;\n",
              "      border-right-color: var(--fill-color);\n",
              "    }\n",
              "    80% {\n",
              "      border-color: transparent;\n",
              "      border-right-color: var(--fill-color);\n",
              "      border-bottom-color: var(--fill-color);\n",
              "    }\n",
              "    90% {\n",
              "      border-color: transparent;\n",
              "      border-bottom-color: var(--fill-color);\n",
              "    }\n",
              "  }\n",
              "</style>\n",
              "\n",
              "      <script>\n",
              "        async function quickchart(key) {\n",
              "          const quickchartButtonEl =\n",
              "            document.querySelector('#' + key + ' button');\n",
              "          quickchartButtonEl.disabled = true;  // To prevent multiple clicks.\n",
              "          quickchartButtonEl.classList.add('colab-df-spinner');\n",
              "          try {\n",
              "            const charts = await google.colab.kernel.invokeFunction(\n",
              "                'suggestCharts', [key], {});\n",
              "          } catch (error) {\n",
              "            console.error('Error during call to suggestCharts:', error);\n",
              "          }\n",
              "          quickchartButtonEl.classList.remove('colab-df-spinner');\n",
              "          quickchartButtonEl.classList.add('colab-df-quickchart-complete');\n",
              "        }\n",
              "        (() => {\n",
              "          let quickchartButtonEl =\n",
              "            document.querySelector('#df-fdc36d14-5e4a-450d-9cdb-da82833b6d57 button');\n",
              "          quickchartButtonEl.style.display =\n",
              "            google.colab.kernel.accessAllowed ? 'block' : 'none';\n",
              "        })();\n",
              "      </script>\n",
              "    </div>\n",
              "\n",
              "    </div>\n",
              "  </div>\n"
            ],
            "application/vnd.google.colaboratory.intrinsic+json": {
              "type": "dataframe",
              "variable_name": "df",
              "summary": "{\n  \"name\": \"df\",\n  \"rows\": 1314,\n  \"fields\": [\n    {\n      \"column\": \"LotArea\",\n      \"properties\": {\n        \"dtype\": \"number\",\n        \"std\": 10430,\n        \"min\": 1300,\n        \"max\": 215245,\n        \"num_unique_values\": 977,\n        \"samples\": [\n          7851,\n          10846,\n          13346\n        ],\n        \"semantic_type\": \"\",\n        \"description\": \"\"\n      }\n    },\n    {\n      \"column\": \"TotalBsmtSF\",\n      \"properties\": {\n        \"dtype\": \"number\",\n        \"std\": 435,\n        \"min\": 0,\n        \"max\": 6110,\n        \"num_unique_values\": 674,\n        \"samples\": [\n          1277,\n          1500,\n          1340\n        ],\n        \"semantic_type\": \"\",\n        \"description\": \"\"\n      }\n    },\n    {\n      \"column\": \"GrLivArea\",\n      \"properties\": {\n        \"dtype\": \"number\",\n        \"std\": 524,\n        \"min\": 334,\n        \"max\": 5642,\n        \"num_unique_values\": 810,\n        \"samples\": [\n          1474,\n          1804,\n          3194\n        ],\n        \"semantic_type\": \"\",\n        \"description\": \"\"\n      }\n    },\n    {\n      \"column\": \"GarageArea\",\n      \"properties\": {\n        \"dtype\": \"number\",\n        \"std\": 213,\n        \"min\": 0,\n        \"max\": 1418,\n        \"num_unique_values\": 419,\n        \"samples\": [\n          495,\n          458,\n          936\n        ],\n        \"semantic_type\": \"\",\n        \"description\": \"\"\n      }\n    },\n    {\n      \"column\": \"PoolArea\",\n      \"properties\": {\n        \"dtype\": \"number\",\n        \"std\": 39,\n        \"min\": 0,\n        \"max\": 738,\n        \"num_unique_values\": 7,\n        \"samples\": [\n          0,\n          648,\n          480\n        ],\n        \"semantic_type\": \"\",\n        \"description\": \"\"\n      }\n    },\n    {\n      \"column\": \"OverallCond\",\n      \"properties\": {\n        \"dtype\": \"number\",\n        \"std\": 1,\n        \"min\": 1,\n        \"max\": 9,\n        \"num_unique_values\": 9,\n        \"samples\": [\n          9,\n          6,\n          1\n        ],\n        \"semantic_type\": \"\",\n        \"description\": \"\"\n      }\n    },\n    {\n      \"column\": \"Utilities\",\n      \"properties\": {\n        \"dtype\": \"category\",\n        \"num_unique_values\": 2,\n        \"samples\": [\n          \"NoSeWa\",\n          \"AllPub\"\n        ],\n        \"semantic_type\": \"\",\n        \"description\": \"\"\n      }\n    },\n    {\n      \"column\": \"SalePrice\",\n      \"properties\": {\n        \"dtype\": \"number\",\n        \"std\": 77511,\n        \"min\": 34900,\n        \"max\": 755000,\n        \"num_unique_values\": 626,\n        \"samples\": [\n          611657,\n          157000\n        ],\n        \"semantic_type\": \"\",\n        \"description\": \"\"\n      }\n    }\n  ]\n}"
            }
          },
          "metadata": {},
          "execution_count": 3
        }
      ],
      "source": [
        "df.head()"
      ]
    },
    {
      "cell_type": "markdown",
      "metadata": {
        "id": "LNnfJbohAaTM"
      },
      "source": [
        "What are all the features present? What is the range for each of the features along with their mean?"
      ]
    },
    {
      "cell_type": "code",
      "execution_count": 39,
      "metadata": {
        "id": "i0e6ZqO6AaTM",
        "colab": {
          "base_uri": "https://localhost:8080/"
        },
        "outputId": "ac8c691c-0d78-42e2-b6f5-22a628a2ca43"
      },
      "outputs": [
        {
          "output_type": "stream",
          "name": "stdout",
          "text": [
            "Range of the features\n",
            "LotArea         10622.104262\n",
            "TotalBsmtSF      1058.311263\n",
            "GrLivArea        1512.900304\n",
            "GarageArea        473.480213\n",
            "PoolArea            2.643075\n",
            "OverallCond         5.582192\n",
            "SalePrice      180795.504566\n",
            "dtype: float64\n",
            "Mean of the features\n",
            "LotArea         10622.104262\n",
            "TotalBsmtSF      1058.311263\n",
            "GrLivArea        1512.900304\n",
            "GarageArea        473.480213\n",
            "PoolArea            2.643075\n",
            "OverallCond         5.582192\n",
            "SalePrice      180795.504566\n",
            "dtype: float64\n",
            "['LotArea', 'TotalBsmtSF', 'GrLivArea', 'GarageArea', 'PoolArea', 'OverallCond', 'SalePrice']\n"
          ]
        }
      ],
      "source": [
        "\n",
        "df_modified = df.drop('Utilities', axis=1)\n",
        "feature_range = df_modified.max() - df_modified.min()\n",
        "feature_range = df_modified.mean()\n",
        "\n",
        "print(\"Range of the features\")\n",
        "print(feature_range)\n",
        "\n",
        "print(\"Mean of the features\")\n",
        "print(feature_range)\n",
        "\n",
        "column_headers = list(df_modified.columns)\n",
        "print(column_headers)"
      ]
    },
    {
      "cell_type": "markdown",
      "metadata": {
        "id": "8Hjdd5Y5AaTM"
      },
      "source": [
        "### **Feature Scaling and One-Hot Encoding**"
      ]
    },
    {
      "cell_type": "markdown",
      "metadata": {
        "id": "J3ls8u3hAaTM"
      },
      "source": [
        "You must have noticed that some features `(such as Utilities)` are not continuous values.\n",
        "  \n",
        "These features contain values indicating different categories and must somehow be converted to numbers so that the computer can understand it. `(Computers only understand numbers and not strings)`\n",
        "  \n",
        "These features are called categorical features. We can represent these features as a `One-Hot Representation`\n",
        "  \n",
        "  \n",
        "You must have also noticed that all the other features, each are in a different scale. This can be detremental to the performance of our linear regression model and so we normalize them so that all of them are in the range $[0,1]$"
      ]
    },
    {
      "cell_type": "markdown",
      "metadata": {
        "id": "yeoczqQIAaTM"
      },
      "source": [
        "> NOTE: When you are doing feature scaling, store the min/max which you will use to normalize somewhere. This is then to be used at testing time. Try to think why are doing this?"
      ]
    },
    {
      "cell_type": "code",
      "execution_count": 40,
      "metadata": {
        "id": "W17LZP2qAaTN",
        "colab": {
          "base_uri": "https://localhost:8080/"
        },
        "outputId": "dc52e680-7ecf-4509-b9e2-138e088e4fb7"
      },
      "outputs": [
        {
          "output_type": "stream",
          "name": "stdout",
          "text": [
            "Categorical columns: ['Utilities']\n",
            "Numerical columns: ['LotArea', 'TotalBsmtSF', 'GrLivArea', 'GarageArea', 'PoolArea', 'OverallCond', 'SalePrice'] \n",
            "\n"
          ]
        }
      ],
      "source": [
        "# Do the one-hot encoding here\n",
        "\n",
        "categorical_cols = df.select_dtypes(include=['object', 'category']).columns\n",
        "numerical_cols = df.select_dtypes(include=['int64', 'float64']).columns\n",
        "\n",
        "print(\"Categorical columns:\", ['Utilities'])\n",
        "print(\"Numerical columns:\", list(df_modified), \"\\n\")\n",
        "\n",
        "# One-Hot Encode categorical columns\n",
        "ohe = OneHotEncoder(sparse_output=False)\n",
        "encoded_data = ohe.fit_transform(df[categorical_cols])\n",
        "encoded_df = pd.DataFrame(encoded_data, columns=ohe.get_feature_names_out(categorical_cols))\n",
        "\n",
        "# Merge back with numerical data\n",
        "df_encoded = pd.concat([df_modified[numerical_cols].reset_index(drop=True), encoded_df], axis=1)"
      ]
    },
    {
      "cell_type": "code",
      "execution_count": 41,
      "metadata": {
        "id": "gG7rV9TCAaTN",
        "colab": {
          "base_uri": "https://localhost:8080/"
        },
        "outputId": "c37fe748-0c4a-427f-c43d-3adbeb97d755"
      },
      "outputs": [
        {
          "output_type": "stream",
          "name": "stdout",
          "text": [
            "       LotArea  TotalBsmtSF  GrLivArea  GarageArea  PoolArea  OverallCond  \\\n",
            "0     0.047924     0.172013   0.155426    0.236953       0.0        0.500   \n",
            "1     0.033186     0.172177   0.135268    0.203103       0.0        0.500   \n",
            "2     0.035804     0.164975   0.130746    0.253879       0.0        0.625   \n",
            "3     0.045806     0.000000   0.112283    0.217207       0.0        0.750   \n",
            "4     0.066807     0.213421   0.367935    0.470381       0.0        0.375   \n",
            "...        ...          ...        ...         ...       ...          ...   \n",
            "1309  0.036084     0.184452   0.156556    0.345557       0.0        0.750   \n",
            "1310  0.044371     0.127660   0.242276    0.325811       0.0        0.500   \n",
            "1311  0.035453     0.141408   0.107008    0.341326       0.0        0.500   \n",
            "1312  0.046624     0.116203   0.498116    0.397743       0.0        0.750   \n",
            "1313  0.041628     0.000000   0.114921    0.372355       0.0        0.250   \n",
            "\n",
            "      SalePrice  Utilities_AllPub  \n",
            "0      0.170948               1.0  \n",
            "1      0.143869               1.0  \n",
            "2      0.111235               1.0  \n",
            "3      0.069435               1.0  \n",
            "4      0.263991               1.0  \n",
            "...         ...               ...  \n",
            "1309   0.194417               1.0  \n",
            "1310   0.162616               1.0  \n",
            "1311   0.133454               1.0  \n",
            "1312   0.287599               1.0  \n",
            "1313   0.065408               1.0  \n",
            "\n",
            "[1314 rows x 8 columns]\n",
            "(1314, 8)\n"
          ]
        }
      ],
      "source": [
        "# Do the feature scaling here\n",
        "scaler = MinMaxScaler(feature_range=(0, 1))\n",
        "\n",
        "scaled_data = scaler.fit_transform(df_encoded)\n",
        "df_scaled = pd.DataFrame(scaled_data, columns=df_encoded.columns)\n",
        "if 'Utilities_NoSeWa' in df_scaled.columns:\n",
        "#    df_scaled =df_scaled.drop(columns=[\"Utilities_NoSeWa\"]).values\n",
        "    df_scaled = df_scaled.drop('Utilities_NoSeWa', axis = 1)\n",
        "\n",
        "print(df_scaled)\n",
        "\n",
        "print(df_scaled.shape)\n",
        "\n",
        "#df_standardized_manual = (df_encoded - df_encoded.mean()) / df_encoded.std()\n",
        "#print(df_standardized_manual)\n"
      ]
    },
    {
      "cell_type": "markdown",
      "metadata": {
        "id": "xcZxb-V4AaTN"
      },
      "source": [
        "### **Conversion to NumPy**"
      ]
    },
    {
      "cell_type": "markdown",
      "metadata": {
        "id": "6-_3l_1iAaTN"
      },
      "source": [
        "Ok so now that we have all preprocessed all the data, we need to convert it to numpy for our linear regression model\n",
        "  \n",
        "Assume that our dataset has a total of $N$ datapoints. Each datapoint having a total of $D$ features (after one-hot encoding), we want our numpy array to be of shape $(N, D)$"
      ]
    },
    {
      "cell_type": "markdown",
      "metadata": {
        "id": "QJmGKlEgAaTN"
      },
      "source": [
        "In our task, we have to predict the `SalePrice`. We will need 2 numpy arrays $\n",
        "\n",
        "*   List item\n",
        "*   List item\n",
        "\n",
        "(X, Y)$. These represent the features and targets respectively"
      ]
    },
    {
      "cell_type": "code",
      "execution_count": 42,
      "metadata": {
        "id": "XJk8M5QmAaTN",
        "colab": {
          "base_uri": "https://localhost:8080/"
        },
        "outputId": "f795cba9-3a9b-4909-ce8d-7cd98ce86999"
      },
      "outputs": [
        {
          "output_type": "stream",
          "name": "stdout",
          "text": [
            "X shape: (1314, 7)\n",
            "y shape: (1314,)\n",
            "[[0.04792353 0.17201309 0.15542577 ... 0.         0.5        1.        ]\n",
            " [0.0331861  0.17217676 0.13526752 ... 0.         0.5        1.        ]\n",
            " [0.03580359 0.16497545 0.13074604 ... 0.         0.625      1.        ]\n",
            " ...\n",
            " [0.03545304 0.14140753 0.10700829 ... 0.         0.5        1.        ]\n",
            " [0.04662413 0.11620295 0.49811605 ... 0.         0.75       1.        ]\n",
            " [0.04162752 0.         0.11492087 ... 0.         0.25       1.        ]]\n"
          ]
        }
      ],
      "source": [
        "# Convert to numpy array\n",
        "\n",
        "x = df_scaled.drop(columns=[\"SalePrice\"]).values  # all columns except target\n",
        "y = df_scaled[\"SalePrice\"].values  # target column\n",
        "\n",
        "# Check shapes\n",
        "print(\"X shape:\", x.shape)\n",
        "print(\"y shape:\", y.shape)\n",
        "\n",
        "# Optional: ensure they are numpy arrays (they already are after .values)\n",
        "x = np.array(x)\n",
        "print(x)\n",
        "y = np.array(y)"
      ]
    },
    {
      "cell_type": "markdown",
      "metadata": {
        "id": "J7YT1X-3AaTN"
      },
      "source": [
        "## Linear Regression formulation\n",
        "  \n",
        "We now have our data in the form we need. Let's try to create a linear model to get our initial (Really bad) prediction\n"
      ]
    },
    {
      "cell_type": "markdown",
      "metadata": {
        "id": "upgXFnXgAaTN"
      },
      "source": [
        "Let's say a single datapoint in our dataset consists of 3 features $(x_1, x_2, x_3)$, we can pose it as a linear equation as follows:\n",
        "$$ y = w_1x_1 + w_2x_2 + w_3x_3 + b $$\n",
        "Here we have to learn 4 parameters $(w_1, w_2, w_3, b)$\n",
        "  \n",
        "  \n",
        "Now how do we extend this to multiple datapoints?  \n",
        "  \n",
        "  \n",
        "Try to answer the following:\n",
        "- How many parameters will we have to learn in the cae of our dataset? (Don't forget the bias term)\n",
        "- Form a linear equation for our dataset. We need just a single matrix equation which correctly represents all the datapoints in our dataset\n",
        "- Implement the linear equation as an equation using NumPy arrays (Start by randomly initializing the weights from a standard normal distribution)"
      ]
    },
    {
      "cell_type": "code",
      "execution_count": 43,
      "metadata": {
        "id": "IvB5DGT7AaTO",
        "colab": {
          "base_uri": "https://localhost:8080/"
        },
        "outputId": "8e898ccb-3e9d-450b-f1d0-c265e5e00703"
      },
      "outputs": [
        {
          "output_type": "stream",
          "name": "stdout",
          "text": [
            "Initial Weights: [-1.93642162  1.70140383  0.08719383  0.54405605 -0.02996254  0.14390546\n",
            "  0.64275111]\n",
            "Initial Bias: -1.2461063704301822\n"
          ]
        }
      ],
      "source": [
        "num_features = x.shape[1]\n",
        "weights = np.random.randn(num_features)  # Weights for each feature\n",
        "bias = np.random.randn(1)[0]             # Bias term\n",
        "\n",
        "print(f\"Initial Weights: {weights}\")\n",
        "print(f\"Initial Bias: {bias}\")\n",
        "\n",
        "# Construct the Linear Equation (prediction)\n",
        "# Calculate predictions using the initialized weights and bias\n",
        "y_pred_initial = np.dot(x, weights) + bias\n",
        "\n"
      ]
    },
    {
      "cell_type": "markdown",
      "metadata": {
        "id": "_ldc0Ap_AaTO"
      },
      "source": [
        "How well does our model perform? Try comparing our predictions with the actual values"
      ]
    },
    {
      "cell_type": "code",
      "execution_count": 44,
      "metadata": {
        "id": "TnnX7hG5AaTO",
        "colab": {
          "base_uri": "https://localhost:8080/"
        },
        "outputId": "9a4e5e53-5602-4c28-eb81-84c7c3393ca2"
      },
      "outputs": [
        {
          "output_type": "stream",
          "name": "stdout",
          "text": [
            "[-0.36001931 -0.32429763 -0.2637654  ... -0.2978861  -0.41577366\n",
            " -0.50079229]\n"
          ]
        }
      ],
      "source": [
        "\n",
        "\n",
        "print(y_pred_initial-y)"
      ]
    },
    {
      "cell_type": "markdown",
      "metadata": {
        "id": "MryM_jtQAaTO"
      },
      "source": [
        "### **Learning weights using gradient descent**"
      ]
    },
    {
      "cell_type": "markdown",
      "metadata": {
        "id": "kq9rq3T9AaTO"
      },
      "source": [
        "So these results are really horrible. We need to somehow update our weights so that it correclty represents our data. How do we do that?"
      ]
    },
    {
      "cell_type": "markdown",
      "metadata": {
        "id": "5EKd0mhkAaTO"
      },
      "source": [
        "We must do the following:\n",
        "- We need some numerical indication for our performance, for this we define a Loss Function ( $\\mathscr{L}$ )\n",
        "- Find the gradients of the `Loss` with respect to the `Weights`\n",
        "- Update the weights in accordance to the gradients: $W = W - \\alpha\\nabla_W \\mathscr{L}$"
      ]
    },
    {
      "cell_type": "markdown",
      "metadata": {
        "id": "uUfs8wh3AaTO"
      },
      "source": [
        "Lets define the loss function:\n",
        "- We will use the MSE loss since it is a regression task. (Specify the assumptions we make while doing so as taught in the class).\n",
        "- Implement this loss as a function. (Use numpy as much as possible)"
      ]
    },
    {
      "cell_type": "code",
      "execution_count": 45,
      "metadata": {
        "id": "b4G28aKRAaTO",
        "colab": {
          "base_uri": "https://localhost:8080/"
        },
        "outputId": "3ce777c9-afe7-4085-d4fd-92d164e06adc"
      },
      "outputs": [
        {
          "output_type": "stream",
          "name": "stdout",
          "text": [
            "Mean Squared Error: 0.11884692191960261\n"
          ]
        }
      ],
      "source": [
        "def mse_loss_fn(y_true, y_pred):\n",
        "    squared_errors = np.square(y_pred - y_true)\n",
        "    mean_squared_error = np.mean(squared_errors)\n",
        "    return mean_squared_error\n",
        "loss = mse_loss_fn(y, y_pred_initial)\n",
        "print(f\"Mean Squared Error: {loss}\")"
      ]
    },
    {
      "cell_type": "markdown",
      "metadata": {
        "id": "eUnb9WpfAaTP"
      },
      "source": [
        "Calculate the gradients of the loss with respect to the weights (and biases). First write the equations down on a piece of paper, then proceed to implement it"
      ]
    },
    {
      "cell_type": "code",
      "execution_count": 46,
      "metadata": {
        "id": "BDYpZjjMAaTP",
        "colab": {
          "base_uri": "https://localhost:8080/"
        },
        "outputId": "3de98818-3ea7-41ae-b146-c2b6a721fe34"
      },
      "outputs": [
        {
          "output_type": "execute_result",
          "data": {
            "text/plain": [
              "(array([-0.01724785, -0.04899626, -0.06933864, -0.09559472, -0.00075882,\n",
              "        -0.18004914, -0.31203719]),\n",
              " np.float64(-0.31277608431258824))"
            ]
          },
          "metadata": {},
          "execution_count": 46
        }
      ],
      "source": [
        "def get_gradients(y_true, y_pred, W, b, X):\n",
        "    \"\"\"\n",
        "    Calculates the gradients for the MSE loss function with respect to the weights (and bias)\n",
        "\n",
        "    Args:\n",
        "        y_true: The true values of the target variable (SalePrice in our case)\n",
        "        y_pred: The predicted values of the target variable using our model (W*X + b)\n",
        "\n",
        "        W: The weights of the model\n",
        "        b: The bias of the model\n",
        "        X: The input features\n",
        "\n",
        "    Returns:\n",
        "        dW: The gradients of the loss function with respect to the weights\n",
        "        db: The gradients of the loss function with respect to the bias\n",
        "    \"\"\"\n",
        "    error = y_pred-y_true\n",
        "\n",
        "    dW = (1/len(X)) * X.T @ error\n",
        "    db = (1/len(X)) * np.sum(error)\n",
        "    my_array = np.full((146,), db, dtype=np.float64)\n",
        "\n",
        "    return dW,db\n",
        "\n",
        "get_gradients(y, y_pred_initial, weights, bias, x)"
      ]
    },
    {
      "cell_type": "markdown",
      "metadata": {
        "id": "hfbjlNBXAaTP"
      },
      "source": [
        "Update the weights using the gradients"
      ]
    },
    {
      "cell_type": "code",
      "execution_count": 47,
      "metadata": {
        "id": "9Xstl9DpAaTP",
        "colab": {
          "base_uri": "https://localhost:8080/"
        },
        "outputId": "63ce7268-868f-42e5-a103-e9d0e2d2a774"
      },
      "outputs": [
        {
          "output_type": "stream",
          "name": "stdout",
          "text": [
            "-0.31277608431258824\n"
          ]
        },
        {
          "output_type": "execute_result",
          "data": {
            "text/plain": [
              "(array([-1.93607667,  1.70238376,  0.0885806 ,  0.54596794, -0.02994736,\n",
              "         0.14750644,  0.64899186]),\n",
              " np.float64(-1.2398508487439304))"
            ]
          },
          "metadata": {},
          "execution_count": 47
        }
      ],
      "source": [
        "def update(weights, bias, gradients_weights, gradients_bias, lr):\n",
        "    \"\"\"\n",
        "    Updates the weights (and bias) using the gradients and the learning rate\n",
        "\n",
        "    Args:\n",
        "        weights: The current weights of the model\n",
        "        bias: The current bias of the model\n",
        "\n",
        "        gradients_weights: The gradients of the loss function with respect to the weights\n",
        "        gradients_bias: The gradients of the loss function with respect to the bias\n",
        "\n",
        "        lr: The learning rate\n",
        "\n",
        "    Returns:\n",
        "        weights_new: The updated weights of the model\n",
        "        bias_new: The updated bias of the model\n",
        "\n",
        "    \"\"\"\n",
        "\n",
        "    weights_new = weights - lr * gradients_weights\n",
        "    bias_new = bias - lr * gradients_bias\n",
        "\n",
        "    #my_array = np.full((146,), bias_new, dtype=np.float64)\n",
        "\n",
        "    return weights_new, bias_new\n",
        "dw, db = get_gradients(y, y_pred_initial, weights, bias, x)\n",
        "print(db)\n",
        "update(weights, bias, dw, db, 2e-2)"
      ]
    },
    {
      "cell_type": "markdown",
      "metadata": {
        "id": "wZqXDTjFAaTP"
      },
      "source": [
        "Put all these together to find the loss value, its gradient and finally updating the weights in a loop. Feel free to play around with different learning rates and epochs\n",
        "  \n",
        "> NOTE: The code in comments are just meant to be used as a guide. You will have to do changes based on your code"
      ]
    },
    {
      "cell_type": "code",
      "execution_count": 48,
      "metadata": {
        "id": "a3BVX4nlAaTP",
        "colab": {
          "base_uri": "https://localhost:8080/"
        },
        "outputId": "a8a32467-1b39-42bb-9449-24889b7ca780"
      },
      "outputs": [
        {
          "output_type": "stream",
          "name": "stdout",
          "text": [
            "<class 'function'>\n"
          ]
        }
      ],
      "source": [
        "NUM_EPOCHS = 10\n",
        "LEARNING_RATE = 2e-2\n",
        "losses = []\n",
        "print(type(mse_loss_fn))\n",
        "for epoch in range(NUM_EPOCHS):\n",
        "\n",
        "    y_pred = np.dot(x, weights.T) + bias\n",
        "    loss = mse_loss_fn(y, y_pred)\n",
        "\n",
        "    losses.append(loss)\n",
        "    dw, db = get_gradients(y, y_pred, weights, bias, x)\n",
        "    weights, bias = update(weights, bias, dw, db, LEARNING_RATE)"
      ]
    },
    {
      "cell_type": "markdown",
      "metadata": {
        "id": "uYgND-OLAaTQ"
      },
      "source": [
        "Now use matplotlib to plot the loss graph"
      ]
    },
    {
      "cell_type": "code",
      "execution_count": 49,
      "metadata": {
        "id": "RxFqG5GSAaTQ",
        "colab": {
          "base_uri": "https://localhost:8080/",
          "height": 449
        },
        "outputId": "cd9d203b-bf8d-4e08-d2ae-4fb5460a2470"
      },
      "outputs": [
        {
          "output_type": "display_data",
          "data": {
            "text/plain": [
              "<Figure size 640x480 with 1 Axes>"
            ],
            "image/png": "[encoded data removed]"
          },
          "metadata": {}
        }
      ],
      "source": [
        "plt.plot(losses)\n",
        "plt.xlabel('Epochs')\n",
        "plt.ylabel('Loss')\n",
        "plt.show()"
      ]
    },
    {
      "cell_type": "markdown",
      "metadata": {
        "id": "kaZdAzbvAaTQ"
      },
      "source": [
        "### **Testing with test data**"
      ]
    },
    {
      "cell_type": "markdown",
      "metadata": {
        "id": "vuSbgtM6AaTQ"
      },
      "source": [
        "Load and apply all the preprocessing steps used in the training data for the testing data as well. Remember to use the **SAME** min/max values which you used for the training set and not recalculate them from the test set. Also mention why we are doing this.\n",
        "\n",
        "To load test data from GitHub, use the code below.\n"
      ]
    },
    {
      "cell_type": "code",
      "execution_count": 50,
      "metadata": {
        "id": "3iuQ4ulhAaTQ",
        "colab": {
          "base_uri": "https://localhost:8080/"
        },
        "outputId": "beb23002-70f7-4b15-9393-602733a8e619"
      },
      "outputs": [
        {
          "output_type": "stream",
          "name": "stdout",
          "text": [
            "     LotArea  TotalBsmtSF  GrLivArea  GarageArea  PoolArea  OverallCond  \\\n",
            "0      15623         2396       4476         813       555            5   \n",
            "1      11952          808       1969         534         0            6   \n",
            "2       7558          896       1913         342         0            6   \n",
            "3       6762         1187       1208         632         0            5   \n",
            "4       8529         1454       1434         527         0            5   \n",
            "..       ...          ...        ...         ...       ...          ...   \n",
            "141     9135         1536       1536         532         0            5   \n",
            "142    11639         1428       1428         480         0            5   \n",
            "143    11475         1584       1776         888         0            5   \n",
            "144     5925          907       1131         672         0            7   \n",
            "145    14559         1008       1363         288         0            7   \n",
            "\n",
            "    Utilities  SalePrice  \n",
            "0      AllPub     745000  \n",
            "1      AllPub     190000  \n",
            "2      AllPub     177000  \n",
            "3      AllPub     206000  \n",
            "4      AllPub     189000  \n",
            "..        ...        ...  \n",
            "141    AllPub     214000  \n",
            "142    AllPub     182000  \n",
            "143    AllPub     110000  \n",
            "144    AllPub      89471  \n",
            "145    AllPub     164900  \n",
            "\n",
            "[146 rows x 8 columns]\n",
            "Categorical columns: ['Utilities']\n",
            "Numerical columns: ['LotArea', 'TotalBsmtSF', 'GrLivArea', 'GarageArea', 'PoolArea', 'OverallCond', 'Utilities', 'SalePrice'] \n",
            "\n",
            "     LotArea  TotalBsmtSF  GrLivArea  GarageArea  PoolArea  OverallCond  \\\n",
            "0      15623         2396       4476         813       555            5   \n",
            "1      11952          808       1969         534         0            6   \n",
            "2       7558          896       1913         342         0            6   \n",
            "3       6762         1187       1208         632         0            5   \n",
            "4       8529         1454       1434         527         0            5   \n",
            "..       ...          ...        ...         ...       ...          ...   \n",
            "141     9135         1536       1536         532         0            5   \n",
            "142    11639         1428       1428         480         0            5   \n",
            "143    11475         1584       1776         888         0            5   \n",
            "144     5925          907       1131         672         0            7   \n",
            "145    14559         1008       1363         288         0            7   \n",
            "\n",
            "     SalePrice  Utilities_AllPub  \n",
            "0       745000               1.0  \n",
            "1       190000               1.0  \n",
            "2       177000               1.0  \n",
            "3       206000               1.0  \n",
            "4       189000               1.0  \n",
            "..         ...               ...  \n",
            "141     214000               1.0  \n",
            "142     182000               1.0  \n",
            "143     110000               1.0  \n",
            "144      89471               1.0  \n",
            "145     164900               1.0  \n",
            "\n",
            "[146 rows x 8 columns]\n"
          ]
        }
      ],
      "source": [
        "df_test = pd.read_csv('https://raw.githubusercontent.com/cronan03/DevSoc_AI-ML/main/test_processed_splitted.csv')\n",
        "print(df_test)\n",
        "\n",
        "# Let's find all the columns that are missing in the test set\n",
        "missing_cols = set(df.columns) - set(df_test.columns)\n",
        "\n",
        "# Add these columns to the test set with all zeros\n",
        "for col in missing_cols:\n",
        "    df_test[col] = 0\n",
        "\n",
        "#if 'Utilities_AllPub' not in df_test.columns:\n",
        "#    df_test = df_test.join(pd.get_dummies(df_test['Utilities'], dtype = 'int32', prefix = 'Utilities'))\n",
        "#    df_test = df_test.drop('Utilities', axis = 1)\n",
        "\n",
        "\n",
        "\n",
        "df_modified2 = df_test.drop('Utilities', axis=1)\n",
        "\n",
        "\n",
        "categorical_cols = df.select_dtypes(include=['object', 'category']).columns\n",
        "numerical_cols = df.select_dtypes(include=['int64', 'float64']).columns\n",
        "\n",
        "print(\"Categorical columns:\", ['Utilities'])\n",
        "print(\"Numerical columns:\", list(df_test), \"\\n\")\n",
        "\n",
        "# One-Hot Encode categorical columns\n",
        "ohe = OneHotEncoder(sparse_output=False)\n",
        "encoded_data = ohe.fit_transform(df_test[categorical_cols])\n",
        "encoded_df = pd.DataFrame(encoded_data, columns=ohe.get_feature_names_out(categorical_cols))\n",
        "\n",
        "# Merge back with numerical data\n",
        "df_encoded = pd.concat([df_modified2[numerical_cols].reset_index(drop=True), encoded_df], axis=1)\n",
        "print(df_encoded)\n"
      ]
    },
    {
      "cell_type": "markdown",
      "metadata": {
        "id": "KxqOWigRAaTQ"
      },
      "source": [
        "Using the weights learnt above, predict the values in the test dataset. Also answer the following questions:\n",
        "- Are the predictions good?\n",
        "- What is the MSE loss for the testset\n",
        "- Is the MSE loss for testing greater or lower than training\n",
        "- Why is this the case"
      ]
    },
    {
      "cell_type": "code",
      "execution_count": 51,
      "metadata": {
        "id": "xvF1EJfZAaTQ",
        "colab": {
          "base_uri": "https://localhost:8080/"
        },
        "outputId": "8abd6813-aae1-4749-8c06-2c4db89a6753"
      },
      "outputs": [
        {
          "output_type": "stream",
          "name": "stdout",
          "text": [
            "      LotArea  TotalBsmtSF  GrLivArea  GarageArea  PoolArea  OverallCond  \\\n",
            "0    0.409126     0.774402   1.000000    0.779482       1.0     0.428571   \n",
            "1    0.301408     0.261151   0.327702    0.511985       0.0     0.571429   \n",
            "2    0.172477     0.289593   0.312684    0.327900       0.0     0.571429   \n",
            "3    0.149120     0.383646   0.123626    0.605944       0.0     0.428571   \n",
            "4    0.200968     0.469942   0.184232    0.505273       0.0     0.428571   \n",
            "..        ...          ...        ...         ...       ...          ...   \n",
            "141  0.218750     0.496445   0.211585    0.510067       0.0     0.428571   \n",
            "142  0.292224     0.461538   0.182623    0.460211       0.0     0.428571   \n",
            "143  0.287412     0.511959   0.275945    0.851390       0.0     0.428571   \n",
            "144  0.124560     0.293148   0.102977    0.644295       0.0     0.714286   \n",
            "145  0.377905     0.325792   0.165192    0.276127       0.0     0.714286   \n",
            "\n",
            "     SalePrice  Utilities_AllPub  \n",
            "0     1.000000               0.0  \n",
            "1     0.189781               0.0  \n",
            "2     0.170803               0.0  \n",
            "3     0.213139               0.0  \n",
            "4     0.188321               0.0  \n",
            "..         ...               ...  \n",
            "141   0.224818               0.0  \n",
            "142   0.178102               0.0  \n",
            "143   0.072993               0.0  \n",
            "144   0.043023               0.0  \n",
            "145   0.153139               0.0  \n",
            "\n",
            "[146 rows x 8 columns]\n",
            "     LotArea  TotalBsmtSF  GrLivArea  GarageArea  PoolArea  OverallCond  \\\n",
            "0      False        False      False       False     False        False   \n",
            "1      False        False      False       False     False        False   \n",
            "2      False        False      False       False     False        False   \n",
            "3      False        False      False       False     False        False   \n",
            "4      False        False      False       False     False        False   \n",
            "..       ...          ...        ...         ...       ...          ...   \n",
            "141    False        False      False       False     False        False   \n",
            "142    False        False      False       False     False        False   \n",
            "143    False        False      False       False     False        False   \n",
            "144    False        False      False       False     False        False   \n",
            "145    False        False      False       False     False        False   \n",
            "\n",
            "     SalePrice  Utilities_AllPub  \n",
            "0        False             False  \n",
            "1        False             False  \n",
            "2        False             False  \n",
            "3        False             False  \n",
            "4        False             False  \n",
            "..         ...               ...  \n",
            "141      False             False  \n",
            "142      False             False  \n",
            "143      False             False  \n",
            "144      False             False  \n",
            "145      False             False  \n",
            "\n",
            "[146 rows x 8 columns]\n",
            "(146, 7)\n",
            "(146, 1)\n"
          ]
        }
      ],
      "source": [
        "# Scale the features\n",
        "#scaler = MinMaxScaler(feature_range=(0, 1))\n",
        "scaled_data_2 = scaler.fit_transform(df_encoded)\n",
        "df_scaled_2 = pd.DataFrame(scaled_data_2, columns=df_encoded.columns)\n",
        "print(df_scaled_2)\n",
        "# Fill NaN values\n",
        "df_test.fillna(0, inplace=True)\n",
        "\n",
        "# Check for unexpected NaNs\n",
        "nan_val = df_encoded.isnull()\n",
        "print(nan_val)\n",
        "\n",
        "\n",
        "# Convert to numpy array\n",
        "x_test = df_scaled_2.copy().drop('SalePrice', axis=1).to_numpy() # (N, D)\n",
        "y_test = df_scaled_2.copy()['SalePrice'].to_numpy().reshape(-1, 1) # (N, 1)\n",
        "print(x_test.shape)\n",
        "print(y_test.shape)\n"
      ]
    },
    {
      "cell_type": "code",
      "source": [
        "extra_cols = list(set(df_test.columns) - set(df.columns))\n",
        "print(\"Extra columns in df_test:\", extra_cols)\n",
        "\n",
        "missing_cols = list(set(df.columns) - set(df_test.columns))\n",
        "print(\"Missing columns in df_test:\", missing_cols)"
      ],
      "metadata": {
        "id": "MkmpTFp8yi1L",
        "colab": {
          "base_uri": "https://localhost:8080/"
        },
        "outputId": "e6eb91e3-a52e-435e-9278-71344c4b6469"
      },
      "execution_count": 52,
      "outputs": [
        {
          "output_type": "stream",
          "name": "stdout",
          "text": [
            "Extra columns in df_test: []\n",
            "Missing columns in df_test: []\n"
          ]
        }
      ]
    },
    {
      "cell_type": "code",
      "source": [
        "# Make predictions\n",
        "print(bias)\n",
        "y_pred_test = x_test @ weights.T + bias # (N, 1)\n",
        "loss_test = mse_loss_fn(y_test,y_pred_test)\n",
        "\n",
        "# Scale the predictions back to the original scale\n",
        "# Create a temporary DataFrame with the same structure as the training data\n",
        "temp_df = pd.DataFrame(x_test, columns=df_scaled_2.drop('SalePrice', axis=1).columns)\n",
        "temp_df['SalePrice'] = y_pred_test\n",
        "\n",
        "# If 'Utilities_NoSeWa' was dropped from training, ensure it's not in the test data for inverse scaling\n",
        "#if 'Utilities_NoSeWa' in temp_df.columns:\n",
        "#    temp_df = temp_df.drop('Utilities_NoSeWa', axis = 1)\n",
        "\n",
        "# Inverse transform the entire DataFrame\n",
        "scaled_predictions = scaler.inverse_transform(temp_df)\n",
        "\n",
        "# Extract the inverse transformed SalePrice\n",
        "y_pred_test_scaled = scaled_predictions[:, temp_df.columns.get_loc('SalePrice')]"
      ],
      "metadata": {
        "id": "Z-TbJp0ntTip",
        "colab": {
          "base_uri": "https://localhost:8080/"
        },
        "outputId": "caa89689-697e-4451-c262-a2dd2c3d0213"
      },
      "execution_count": 53,
      "outputs": [
        {
          "output_type": "stream",
          "name": "stdout",
          "text": [
            "-1.1959261317131036\n"
          ]
        }
      ]
    },
    {
      "cell_type": "code",
      "source": [
        "idx = np.random.randint(0, x_test.shape[0], 5)\n",
        "y_pred_test_sample = y_pred_test_scaled[idx].round().astype(int)\n",
        "y_true_test_sample = y_test[idx].round().astype(int)\n",
        "\n",
        "print('Predicted SalePrice: \\t', y_pred_test_sample.squeeze().tolist())\n",
        "print('Actual SalePrice: \\t', y_true_test_sample.squeeze().tolist())\n",
        "print('\\nTest Loss: \\t\\t', loss_test)"
      ],
      "metadata": {
        "id": "GIGSX11u62JU",
        "colab": {
          "base_uri": "https://localhost:8080/"
        },
        "outputId": "bf9610d1-37c6-4791-9a98-ada57ca740e5"
      },
      "execution_count": 60,
      "outputs": [
        {
          "output_type": "stream",
          "name": "stdout",
          "text": [
            "Predicted SalePrice: \t [0, 0, 0, 0, 1]\n",
            "Actual SalePrice: \t [0, 0, 0, 0, 0]\n",
            "\n",
            "Test Loss: \t\t 0.8919512637969456\n"
          ]
        }
      ]
    }
  ],
  "metadata": {
    "kernelspec": {
      "display_name": "Python 3",
      "language": "python",
      "name": "python3"
    },
    "language_info": {
      "codemirror_mode": {
        "name": "ipython",
        "version": 3
      },
      "file_extension": ".py",
      "mimetype": "text/x-python",
      "name": "python",
      "nbconvert_exporter": "python",
      "pygments_lexer": "ipython3",
      "version": "3.10.12"
    },
    "orig_nbformat": 4,
    "colab": {
      "provenance": [],
      "include_colab_link": true
    }
  },
  "nbformat": 4,
  "nbformat_minor": 0
}